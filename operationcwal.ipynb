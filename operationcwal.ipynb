{
 "cells": [
  {
   "cell_type": "code",
   "execution_count": null,
   "metadata": {},
   "outputs": [],
   "source": [
    "$env:KMP_DUPLICATE_LIB_OK=\"TRUE\" python tracking.py --video_path=C:\\\\deeplearning\\\\AutoTrackAnything\\\\dataset\\\\two.mp4 --width=960 --height=540 --frames_to_propagate=600 --output_video_path=C:\\\\deeplearning\\\\AutoTrackAnything\\\\result\\\\result.mp4 --device=0 --person_conf=0.9 --iou_thresh=0.15 --yolo_every=2 --output_path=C:\\\\deeplearning\\\\AutoTrackAnything\\\\result\\\\OUTPUT_CSV_PATH.csv"
   ]
  },
  {
   "cell_type": "code",
   "execution_count": null,
   "metadata": {},
   "outputs": [],
   "source": []
  }
 ],
 "metadata": {
  "language_info": {
   "name": "python"
  }
 },
 "nbformat": 4,
 "nbformat_minor": 2
}
